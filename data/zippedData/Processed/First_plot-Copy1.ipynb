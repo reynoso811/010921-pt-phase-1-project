{
 "cells": [
  {
   "cell_type": "code",
   "execution_count": 1,
   "metadata": {},
   "outputs": [],
   "source": [
    "import pandas as pd\n",
    "import numpy as np"
   ]
  },
  {
   "cell_type": "code",
   "execution_count": 2,
   "metadata": {},
   "outputs": [],
   "source": [
    "import matplotlib.pyplot as plt\n",
    "%matplotlib inline"
   ]
  },
  {
   "cell_type": "code",
   "execution_count": 1,
   "metadata": {},
   "outputs": [
    {
     "ename": "NameError",
     "evalue": "name 'dropped' is not defined",
     "output_type": "error",
     "traceback": [
      "\u001b[0;31m---------------------------------------------------------------------------\u001b[0m",
      "\u001b[0;31mNameError\u001b[0m                                 Traceback (most recent call last)",
      "\u001b[0;32m<ipython-input-1-0aa8b4cd403d>\u001b[0m in \u001b[0;36m<module>\u001b[0;34m\u001b[0m\n\u001b[1;32m      1\u001b[0m \u001b[0;32mfrom\u001b[0m \u001b[0mpandasgui\u001b[0m \u001b[0;32mimport\u001b[0m \u001b[0mshow\u001b[0m\u001b[0;34m\u001b[0m\u001b[0;34m\u001b[0m\u001b[0m\n\u001b[0;32m----> 2\u001b[0;31m \u001b[0mgui\u001b[0m  \u001b[0;34m=\u001b[0m \u001b[0mshow\u001b[0m \u001b[0;34m(\u001b[0m\u001b[0mdropped\u001b[0m\u001b[0;34m)\u001b[0m\u001b[0;34m\u001b[0m\u001b[0;34m\u001b[0m\u001b[0m\n\u001b[0m",
      "\u001b[0;31mNameError\u001b[0m: name 'dropped' is not defined"
     ]
    }
   ],
   "source": [
    "from pandasgui import show\n",
    "gui  = show (dropped)"
   ]
  },
  {
   "cell_type": "code",
   "execution_count": 3,
   "metadata": {},
   "outputs": [],
   "source": [
    "ds_02 =  pd.read_csv('merge1-Copy1.csv')"
   ]
  },
  {
   "cell_type": "code",
   "execution_count": 16,
   "metadata": {},
   "outputs": [
    {
     "data": {
      "text/plain": [
       "Index(['Unnamed: 0', 'tconst', 'averagerating', 'numvotes', 'primary_title',\n",
       "       'original_title', 'start_year', 'runtime_minutes', 'genres'],\n",
       "      dtype='object')"
      ]
     },
     "execution_count": 16,
     "metadata": {},
     "output_type": "execute_result"
    }
   ],
   "source": [
    "ds_02.keys()"
   ]
  },
  {
   "cell_type": "code",
   "execution_count": 4,
   "metadata": {},
   "outputs": [],
   "source": [
    "ds_01 =  pd.read_csv('merge1.csv')"
   ]
  },
  {
   "cell_type": "code",
   "execution_count": 5,
   "metadata": {},
   "outputs": [
    {
     "data": {
      "text/html": [
       "<div>\n",
       "<style scoped>\n",
       "    .dataframe tbody tr th:only-of-type {\n",
       "        vertical-align: middle;\n",
       "    }\n",
       "\n",
       "    .dataframe tbody tr th {\n",
       "        vertical-align: top;\n",
       "    }\n",
       "\n",
       "    .dataframe thead th {\n",
       "        text-align: right;\n",
       "    }\n",
       "</style>\n",
       "<table border=\"1\" class=\"dataframe\">\n",
       "  <thead>\n",
       "    <tr style=\"text-align: right;\">\n",
       "      <th></th>\n",
       "      <th>Unnamed: 0</th>\n",
       "      <th>tconst</th>\n",
       "      <th>averagerating</th>\n",
       "      <th>numvotes</th>\n",
       "      <th>primary_title</th>\n",
       "      <th>original_title</th>\n",
       "      <th>start_year</th>\n",
       "      <th>runtime_minutes</th>\n",
       "      <th>genres</th>\n",
       "    </tr>\n",
       "  </thead>\n",
       "  <tbody>\n",
       "    <tr>\n",
       "      <th>0</th>\n",
       "      <td>0</td>\n",
       "      <td>tt10356526</td>\n",
       "      <td>8.3</td>\n",
       "      <td>31</td>\n",
       "      <td>Laiye Je Yaarian</td>\n",
       "      <td>Laiye Je Yaarian</td>\n",
       "      <td>2019</td>\n",
       "      <td>117.0</td>\n",
       "      <td>Romance</td>\n",
       "    </tr>\n",
       "    <tr>\n",
       "      <th>1</th>\n",
       "      <td>1</td>\n",
       "      <td>tt10384606</td>\n",
       "      <td>8.9</td>\n",
       "      <td>559</td>\n",
       "      <td>Borderless</td>\n",
       "      <td>Borderless</td>\n",
       "      <td>2019</td>\n",
       "      <td>87.0</td>\n",
       "      <td>Documentary</td>\n",
       "    </tr>\n",
       "    <tr>\n",
       "      <th>2</th>\n",
       "      <td>2</td>\n",
       "      <td>tt1042974</td>\n",
       "      <td>6.4</td>\n",
       "      <td>20</td>\n",
       "      <td>Just Inès</td>\n",
       "      <td>Just Inès</td>\n",
       "      <td>2010</td>\n",
       "      <td>90.0</td>\n",
       "      <td>Drama</td>\n",
       "    </tr>\n",
       "    <tr>\n",
       "      <th>3</th>\n",
       "      <td>3</td>\n",
       "      <td>tt1043726</td>\n",
       "      <td>4.2</td>\n",
       "      <td>50352</td>\n",
       "      <td>The Legend of Hercules</td>\n",
       "      <td>The Legend of Hercules</td>\n",
       "      <td>2014</td>\n",
       "      <td>99.0</td>\n",
       "      <td>Action,Adventure,Fantasy</td>\n",
       "    </tr>\n",
       "    <tr>\n",
       "      <th>4</th>\n",
       "      <td>4</td>\n",
       "      <td>tt1060240</td>\n",
       "      <td>6.5</td>\n",
       "      <td>21</td>\n",
       "      <td>Até Onde?</td>\n",
       "      <td>Até Onde?</td>\n",
       "      <td>2011</td>\n",
       "      <td>73.0</td>\n",
       "      <td>Mystery,Thriller</td>\n",
       "    </tr>\n",
       "  </tbody>\n",
       "</table>\n",
       "</div>"
      ],
      "text/plain": [
       "   Unnamed: 0      tconst  averagerating  numvotes           primary_title  \\\n",
       "0           0  tt10356526            8.3        31        Laiye Je Yaarian   \n",
       "1           1  tt10384606            8.9       559              Borderless   \n",
       "2           2   tt1042974            6.4        20               Just Inès   \n",
       "3           3   tt1043726            4.2     50352  The Legend of Hercules   \n",
       "4           4   tt1060240            6.5        21               Até Onde?   \n",
       "\n",
       "           original_title  start_year  runtime_minutes  \\\n",
       "0        Laiye Je Yaarian        2019            117.0   \n",
       "1              Borderless        2019             87.0   \n",
       "2               Just Inès        2010             90.0   \n",
       "3  The Legend of Hercules        2014             99.0   \n",
       "4               Até Onde?        2011             73.0   \n",
       "\n",
       "                     genres  \n",
       "0                   Romance  \n",
       "1               Documentary  \n",
       "2                     Drama  \n",
       "3  Action,Adventure,Fantasy  \n",
       "4          Mystery,Thriller  "
      ]
     },
     "execution_count": 5,
     "metadata": {},
     "output_type": "execute_result"
    }
   ],
   "source": [
    "ds_01.head()"
   ]
  },
  {
   "cell_type": "code",
   "execution_count": 5,
   "metadata": {},
   "outputs": [],
   "source": [
    "dropped = ds_02.drop(['Unnamed: 0','tconst','averagerating','numvotes','primary_title','runtime_minutes'], axis=1)"
   ]
  },
  {
   "cell_type": "code",
   "execution_count": 18,
   "metadata": {},
   "outputs": [
    {
     "data": {
      "text/html": [
       "<div>\n",
       "<style scoped>\n",
       "    .dataframe tbody tr th:only-of-type {\n",
       "        vertical-align: middle;\n",
       "    }\n",
       "\n",
       "    .dataframe tbody tr th {\n",
       "        vertical-align: top;\n",
       "    }\n",
       "\n",
       "    .dataframe thead th {\n",
       "        text-align: right;\n",
       "    }\n",
       "</style>\n",
       "<table border=\"1\" class=\"dataframe\">\n",
       "  <thead>\n",
       "    <tr style=\"text-align: right;\">\n",
       "      <th></th>\n",
       "      <th>original_title</th>\n",
       "      <th>start_year</th>\n",
       "      <th>genres</th>\n",
       "    </tr>\n",
       "  </thead>\n",
       "  <tbody>\n",
       "    <tr>\n",
       "      <th>0</th>\n",
       "      <td>Laiye Je Yaarian</td>\n",
       "      <td>2019</td>\n",
       "      <td>Romance</td>\n",
       "    </tr>\n",
       "    <tr>\n",
       "      <th>23991</th>\n",
       "      <td>Out of Sight, Out of Mind</td>\n",
       "      <td>2019</td>\n",
       "      <td>Drama</td>\n",
       "    </tr>\n",
       "    <tr>\n",
       "      <th>24002</th>\n",
       "      <td>I Hate Kids</td>\n",
       "      <td>2019</td>\n",
       "      <td>Comedy</td>\n",
       "    </tr>\n",
       "    <tr>\n",
       "      <th>24012</th>\n",
       "      <td>Use Me</td>\n",
       "      <td>2019</td>\n",
       "      <td>Thriller</td>\n",
       "    </tr>\n",
       "    <tr>\n",
       "      <th>24028</th>\n",
       "      <td>Parningsmarknaden</td>\n",
       "      <td>2019</td>\n",
       "      <td>Documentary</td>\n",
       "    </tr>\n",
       "    <tr>\n",
       "      <th>...</th>\n",
       "      <td>...</td>\n",
       "      <td>...</td>\n",
       "      <td>...</td>\n",
       "    </tr>\n",
       "    <tr>\n",
       "      <th>36328</th>\n",
       "      <td>Taliya.Date.Com</td>\n",
       "      <td>2010</td>\n",
       "      <td>Biography,Comedy,Documentary</td>\n",
       "    </tr>\n",
       "    <tr>\n",
       "      <th>36325</th>\n",
       "      <td>Israel vs Israel</td>\n",
       "      <td>2010</td>\n",
       "      <td>Documentary</td>\n",
       "    </tr>\n",
       "    <tr>\n",
       "      <th>17412</th>\n",
       "      <td>Çok Filim Hareketler Bunlar</td>\n",
       "      <td>2010</td>\n",
       "      <td>Comedy</td>\n",
       "    </tr>\n",
       "    <tr>\n",
       "      <th>17411</th>\n",
       "      <td>Indiana Jones und der Speer des Schicksals</td>\n",
       "      <td>2010</td>\n",
       "      <td>Action,Adventure</td>\n",
       "    </tr>\n",
       "    <tr>\n",
       "      <th>7772</th>\n",
       "      <td>Doenjang</td>\n",
       "      <td>2010</td>\n",
       "      <td>Drama,Mystery,Romance</td>\n",
       "    </tr>\n",
       "  </tbody>\n",
       "</table>\n",
       "<p>73856 rows × 3 columns</p>\n",
       "</div>"
      ],
      "text/plain": [
       "                                   original_title  start_year  \\\n",
       "0                                Laiye Je Yaarian        2019   \n",
       "23991                   Out of Sight, Out of Mind        2019   \n",
       "24002                                 I Hate Kids        2019   \n",
       "24012                                      Use Me        2019   \n",
       "24028                           Parningsmarknaden        2019   \n",
       "...                                           ...         ...   \n",
       "36328                             Taliya.Date.Com        2010   \n",
       "36325                            Israel vs Israel        2010   \n",
       "17412                 Çok Filim Hareketler Bunlar        2010   \n",
       "17411  Indiana Jones und der Speer des Schicksals        2010   \n",
       "7772                                     Doenjang        2010   \n",
       "\n",
       "                             genres  \n",
       "0                           Romance  \n",
       "23991                         Drama  \n",
       "24002                        Comedy  \n",
       "24012                      Thriller  \n",
       "24028                   Documentary  \n",
       "...                             ...  \n",
       "36328  Biography,Comedy,Documentary  \n",
       "36325                   Documentary  \n",
       "17412                        Comedy  \n",
       "17411              Action,Adventure  \n",
       "7772          Drama,Mystery,Romance  \n",
       "\n",
       "[73856 rows x 3 columns]"
      ]
     },
     "execution_count": 18,
     "metadata": {},
     "output_type": "execute_result"
    }
   ],
   "source": [
    "dropped.sort_values(by='start_year', ascending=False)"
   ]
  },
  {
   "cell_type": "code",
   "execution_count": 7,
   "metadata": {},
   "outputs": [
    {
     "data": {
      "text/plain": [
       "Index(['original_title', 'start_year', 'genres'], dtype='object')"
      ]
     },
     "execution_count": 7,
     "metadata": {},
     "output_type": "execute_result"
    }
   ],
   "source": [
    "dropped.keys()"
   ]
  },
  {
   "cell_type": "code",
   "execution_count": 8,
   "metadata": {},
   "outputs": [
    {
     "data": {
      "text/html": [
       "<div>\n",
       "<style scoped>\n",
       "    .dataframe tbody tr th:only-of-type {\n",
       "        vertical-align: middle;\n",
       "    }\n",
       "\n",
       "    .dataframe tbody tr th {\n",
       "        vertical-align: top;\n",
       "    }\n",
       "\n",
       "    .dataframe thead th {\n",
       "        text-align: right;\n",
       "    }\n",
       "</style>\n",
       "<table border=\"1\" class=\"dataframe\">\n",
       "  <thead>\n",
       "    <tr style=\"text-align: right;\">\n",
       "      <th></th>\n",
       "      <th>original_title</th>\n",
       "      <th>start_year</th>\n",
       "      <th>genres</th>\n",
       "    </tr>\n",
       "  </thead>\n",
       "  <tbody>\n",
       "    <tr>\n",
       "      <th>73851</th>\n",
       "      <td>Caisa</td>\n",
       "      <td>2018</td>\n",
       "      <td>Documentary</td>\n",
       "    </tr>\n",
       "    <tr>\n",
       "      <th>73852</th>\n",
       "      <td>Code Geass: Lelouch of the Rebellion Episode III</td>\n",
       "      <td>2018</td>\n",
       "      <td>Action,Animation,Sci-Fi</td>\n",
       "    </tr>\n",
       "    <tr>\n",
       "      <th>73853</th>\n",
       "      <td>Sisters</td>\n",
       "      <td>2019</td>\n",
       "      <td>Action,Drama</td>\n",
       "    </tr>\n",
       "    <tr>\n",
       "      <th>73854</th>\n",
       "      <td>The Projectionist</td>\n",
       "      <td>2019</td>\n",
       "      <td>Documentary</td>\n",
       "    </tr>\n",
       "    <tr>\n",
       "      <th>73855</th>\n",
       "      <td>Sathru</td>\n",
       "      <td>2019</td>\n",
       "      <td>Thriller</td>\n",
       "    </tr>\n",
       "  </tbody>\n",
       "</table>\n",
       "</div>"
      ],
      "text/plain": [
       "                                         original_title  start_year  \\\n",
       "73851                                             Caisa        2018   \n",
       "73852  Code Geass: Lelouch of the Rebellion Episode III        2018   \n",
       "73853                                           Sisters        2019   \n",
       "73854                                 The Projectionist        2019   \n",
       "73855                                            Sathru        2019   \n",
       "\n",
       "                        genres  \n",
       "73851              Documentary  \n",
       "73852  Action,Animation,Sci-Fi  \n",
       "73853             Action,Drama  \n",
       "73854              Documentary  \n",
       "73855                 Thriller  "
      ]
     },
     "execution_count": 8,
     "metadata": {},
     "output_type": "execute_result"
    }
   ],
   "source": [
    "dropped.tail()"
   ]
  },
  {
   "cell_type": "code",
   "execution_count": 6,
   "metadata": {},
   "outputs": [
    {
     "data": {
      "text/plain": [
       "[None, None, None, None, None, None, None, None, None, None]"
      ]
     },
     "execution_count": 6,
     "metadata": {},
     "output_type": "execute_result"
    }
   ],
   "source": [
    "plt_x = []\n",
    "plt_x.extend(dropped['start_year'].tolist())\n",
    "years = []\n",
    "[years.append(x)for x in plt_x if x not in years]"
   ]
  },
  {
   "cell_type": "code",
   "execution_count": 7,
   "metadata": {},
   "outputs": [
    {
     "data": {
      "text/plain": [
       "[2019, 2010, 2014, 2011, 2016, 2013, 2015, 2012, 2017, 2018]"
      ]
     },
     "execution_count": 7,
     "metadata": {},
     "output_type": "execute_result"
    }
   ],
   "source": [
    "years"
   ]
  },
  {
   "cell_type": "code",
   "execution_count": 7,
   "metadata": {},
   "outputs": [],
   "source": [
    "plt_y = []\n",
    "plt_y.extend(dropped['genres'].tolist())\n",
    "\n"
   ]
  },
  {
   "cell_type": "markdown",
   "metadata": {},
   "source": [
    "Need to clean/split and remove duplicates for plt_y"
   ]
  },
  {
   "cell_type": "markdown",
   "metadata": {},
   "source": [
    "2 seperate lists, 1 with genres to years and 2 with multiple genres and year"
   ]
  },
  {
   "cell_type": "markdown",
   "metadata": {},
   "source": [
    "#csv to array then explode\n",
    "\n",
    "for year in years:\n",
    "    genres = dropped.loc[dropped[\"start_year\"].isin([year])]\n",
    "    temp = genres.explode(\"genres\")\n",
    "    temp = temp.groupby(\"genres\")\n",
    "    \n",
    "    print(temp.agg([\"count\"]))"
   ]
  },
  {
   "cell_type": "code",
   "execution_count": 22,
   "metadata": {},
   "outputs": [],
   "source": [
    "#dropped.plot(plt_x,plt_y)\n",
    "#x = [2010, 2011, 2012, 2013, 2014, 2015, 2016, 2017, 2018, 2019]\n",
    "#genre_01 = [count in 2010, 2011, 2012...]\n",
    "#genre_02 = [count in 2010, 2011, 2012...]"
   ]
  },
  {
   "cell_type": "code",
   "execution_count": 43,
   "metadata": {},
   "outputs": [
    {
     "name": "stdout",
     "output_type": "stream",
     "text": [
      "2019 {'Romance': 168, 'Documentary': 401, 'Drama': 900, 'Thriller': 261, 'Action': 204, 'Comedy': 553, 'Crime': 125, 'Horror': 204, 'Sci-Fi': 65, 'Adventure': 107, 'Animation': 61, 'Biography': 83, 'Family': 83, 'War': 25, 'Music': 38, 'History': 40, 'Fantasy': 61, 'Mystery': 72, 'Sport': 31, 'Musical': 16, 'Western': 6, 'News': 2}\n",
      "dict_keys(['Romance', 'Documentary', 'Drama', 'Thriller', 'Action', 'Comedy', 'Crime', 'Horror', 'Sci-Fi', 'Adventure', 'Animation', 'Biography', 'Family', 'War', 'Music', 'History', 'Fantasy', 'Mystery', 'Sport', 'Musical', 'Western', 'News'])\n",
      "dict_items([('Romance', 168), ('Documentary', 401), ('Drama', 900), ('Thriller', 261), ('Action', 204), ('Comedy', 553), ('Crime', 125), ('Horror', 204), ('Sci-Fi', 65), ('Adventure', 107), ('Animation', 61), ('Biography', 83), ('Family', 83), ('War', 25), ('Music', 38), ('History', 40), ('Fantasy', 61), ('Mystery', 72), ('Sport', 31), ('Musical', 16), ('Western', 6), ('News', 2)])\n"
     ]
    },
    {
     "ename": "NameError",
     "evalue": "name 'col1Name' is not defined",
     "output_type": "error",
     "traceback": [
      "\u001b[0;31m---------------------------------------------------------------------------\u001b[0m",
      "\u001b[0;31mNameError\u001b[0m                                 Traceback (most recent call last)",
      "\u001b[0;32m<ipython-input-43-3c254892bada>\u001b[0m in \u001b[0;36m<module>\u001b[0;34m\u001b[0m\n\u001b[1;32m     18\u001b[0m     [\n\u001b[1;32m     19\u001b[0m         [\n\u001b[0;32m---> 20\u001b[0;31m             \u001b[0mcol1Name\u001b[0m\u001b[0;34m,\u001b[0m\u001b[0mcol2Name\u001b[0m\u001b[0;34m\u001b[0m\u001b[0;34m\u001b[0m\u001b[0m\n\u001b[0m\u001b[1;32m     21\u001b[0m         ],\n\u001b[1;32m     22\u001b[0m         \u001b[0;34m[\u001b[0m\u001b[0;34m]\u001b[0m\u001b[0;34m\u001b[0m\u001b[0;34m\u001b[0m\u001b[0m\n",
      "\u001b[0;31mNameError\u001b[0m: name 'col1Name' is not defined"
     ]
    }
   ],
   "source": [
    "#working function\n",
    "for year in years:\n",
    "    genres = dropped.loc[dropped[\"start_year\"].isin([year])][\"genres\"]\n",
    "    dropped.groupby(\"genres\")\n",
    "    finalGenres = {}\n",
    "    for genre in genres:\n",
    "        if type(genre) == str:\n",
    "            vals = genre.split(\",\")\n",
    "            for val in vals:\n",
    "                if(val in finalGenres):\n",
    "                    finalGenres[val] = finalGenres[val]+1\n",
    "                else:\n",
    "                    finalGenres[val] = 1\n",
    "    \n",
    "    print(year,finalGenres)\n",
    "    print(finalGenres.keys())\n",
    "    print(finalGenres.items())\n",
    "    [\n",
    "        [\n",
    "            col1Name,col2Name\n",
    "        ],\n",
    "        [\n",
    "            val,val\n",
    "        ]\n",
    "        \n",
    "    ]\n",
    "    break\n",
    "    "
   ]
  },
  {
   "cell_type": "code",
   "execution_count": 8,
   "metadata": {},
   "outputs": [
    {
     "name": "stdout",
     "output_type": "stream",
     "text": [
      "*********** 2019 ****************\n",
      "*********** 2010 ****************\n",
      "*********** 2014 ****************\n",
      "*********** 2011 ****************\n",
      "*********** 2016 ****************\n",
      "*********** 2013 ****************\n",
      "*********** 2015 ****************\n",
      "*********** 2012 ****************\n",
      "*********** 2017 ****************\n",
      "*********** 2018 ****************\n"
     ]
    }
   ],
   "source": [
    "df = pd.DataFrame()\n",
    "for year in years:\n",
    "    \n",
    "    print(\"***********\",year,\"****************\")\n",
    "    genres = dropped.loc[dropped[\"start_year\"].isin([year])][\"genres\"]\n",
    "    dropped.groupby(\"genres\")\n",
    "    finalGenres = {}\n",
    "    for genre in genres:\n",
    "        if type(genre) == str:\n",
    "            vals = genre.split(\",\")\n",
    "            for val in vals:\n",
    "                if(val in finalGenres):\n",
    "                    finalGenres[val] = finalGenres[val]+1\n",
    "                else:\n",
    "                    finalGenres[val] = 1\n",
    "    output = {\"genres\":[],\"count\":[]}\n",
    "    for elem in finalGenres:\n",
    "        output[\"genres\"].append(elem)\n",
    "        output[\"count\"].append(finalGenres[elem])\n",
    "    frame = pd.DataFrame(output)\n",
    "    frame[\"year\"]=year\n",
    "    df  = df.append(frame) \n",
    "    "
   ]
  },
  {
   "cell_type": "code",
   "execution_count": 28,
   "metadata": {},
   "outputs": [
    {
     "data": {
      "text/html": [
       "<div>\n",
       "<style scoped>\n",
       "    .dataframe tbody tr th:only-of-type {\n",
       "        vertical-align: middle;\n",
       "    }\n",
       "\n",
       "    .dataframe tbody tr th {\n",
       "        vertical-align: top;\n",
       "    }\n",
       "\n",
       "    .dataframe thead th {\n",
       "        text-align: right;\n",
       "    }\n",
       "</style>\n",
       "<table border=\"1\" class=\"dataframe\">\n",
       "  <thead>\n",
       "    <tr style=\"text-align: right;\">\n",
       "      <th></th>\n",
       "      <th>genres</th>\n",
       "      <th>count</th>\n",
       "      <th>year</th>\n",
       "    </tr>\n",
       "  </thead>\n",
       "  <tbody>\n",
       "    <tr>\n",
       "      <th>0</th>\n",
       "      <td>Romance</td>\n",
       "      <td>168</td>\n",
       "      <td>2019</td>\n",
       "    </tr>\n",
       "    <tr>\n",
       "      <th>1</th>\n",
       "      <td>Documentary</td>\n",
       "      <td>401</td>\n",
       "      <td>2019</td>\n",
       "    </tr>\n",
       "    <tr>\n",
       "      <th>2</th>\n",
       "      <td>Drama</td>\n",
       "      <td>900</td>\n",
       "      <td>2019</td>\n",
       "    </tr>\n",
       "    <tr>\n",
       "      <th>3</th>\n",
       "      <td>Thriller</td>\n",
       "      <td>261</td>\n",
       "      <td>2019</td>\n",
       "    </tr>\n",
       "    <tr>\n",
       "      <th>4</th>\n",
       "      <td>Action</td>\n",
       "      <td>204</td>\n",
       "      <td>2019</td>\n",
       "    </tr>\n",
       "  </tbody>\n",
       "</table>\n",
       "</div>"
      ],
      "text/plain": [
       "        genres  count  year\n",
       "0      Romance    168  2019\n",
       "1  Documentary    401  2019\n",
       "2        Drama    900  2019\n",
       "3     Thriller    261  2019\n",
       "4       Action    204  2019"
      ]
     },
     "execution_count": 28,
     "metadata": {},
     "output_type": "execute_result"
    }
   ],
   "source": [
    "df.head()"
   ]
  },
  {
   "cell_type": "code",
   "execution_count": 16,
   "metadata": {},
   "outputs": [
    {
     "data": {
      "text/plain": [
       "Text(0.5, 1.0, 'Most popular genre')"
      ]
     },
     "execution_count": 16,
     "metadata": {},
     "output_type": "execute_result"
    },
    {
     "data": {
      "image/png": "[encoded data removed]",
      "text/plain": [
       "<Figure size 432x288 with 1 Axes>"
      ]
     },
     "metadata": {
      "needs_background": "light"
     },
     "output_type": "display_data"
    }
   ],
   "source": [
    "df.pivot(columns=\"genres\", index=\"year\", values=\"count\").T.sort_values(by=[2019],ascending=False).T.plot(kind=\"bar\", stacked=True)\n",
    "plt.legend(ncol=5)\n",
    "plt.legend(loc='upper center', bbox_to_anchor=(0.5, -0.5),\n",
    "         fancybox=True, shadow=True, ncol=5)\n",
    "plt.xlabel(\"Movie release year\")\n",
    "plt.ylabel(\"Genre count\")\n",
    "plt.title(\"Most popular genre\")"
   ]
  },
  {
   "cell_type": "code",
   "execution_count": 3,
   "metadata": {},
   "outputs": [],
   "source": [
    "x = [2010, 2011, 2012, 2013, 2014, 2015, 2016, 2017, 2018, 2019]\n",
    "\n",
    "Documentary = [2902, 1853, 1943, 2027, 2154, 2106, 2095, 2018, 1512, 401]\n",
    "Drama = [2902, 3096, 3175, 3497, 3529, 3629, 3523, 3483, 3054, 900]\n",
    "Comedy = [1606, 1759, 1826, 1895, 1987, 1951, 2013, 1914, 1786, 553]\n",
    "Crime = [424, 466, 473, 507, 524,  538, 591, 532, 431, 125]\n",
    "Thriller = [672, 713, 798, 936, 976, 1019, 1025, 956, 861, 261]\n",
    "Romance = [642, 637, 653, 774, 842, 799, 769, 690, 615, 168]\n",
    "Horror = [646, 699, 827, 810, 899, 885, 953, 961, 790, 204]\n",
    "Mystery = [239, 275, 290, 323, 365, 374, 396, 395, 310, 72]\n",
    "Action = [691, 692, 691, 717, 773, 807, 858, 854, 701, 204]\n",
    "History = [274, 277, 352, 377, 428, 352, 277, 246, 202, 40]\n",
    "Animation = [150, 199, 167, 169, 191, 196, 196, 210, 204, 61]\n",
    "Fantasy = [188, 216, 210, 470, 240, 257, 275, 244, 214, 61]\n",
    "Adventure = [313, 371, 371, 464, 454, 462, 467, 435, 373, 107]\n",
    "Family = [299, 314, 364, 470, 466, 415, 353, 349, 299, 83]\n",
    "Music = [193, 230, 249, 224, 272, 238, 173, 197, 154, 38]\n",
    "Biography = [341, 382, 396, 521, 603, 499, 401, 334, 249, 83]\n",
    "Musical = [82, 81, 80, 82, 77, 70, 87, 75, 71, 16]\n",
    "Sci_Fi = [196, 200, 208, 260, 253, 271, 252, 281, 220, 65]\n",
    "Sport = [93, 124, 104, 142, 156, 141, 149, 124, 115, 31]\n",
    "News = [62, 124, 86, 104, 127, 90, 22, 10, 5, 2]\n",
    "War  = [90, 99, 82, 71, 108, 103, 95, 99, 81, 25]\n",
    "Western  = [25, 30, 31, 27, 39, 28, 24, 37, 33, 6]\n",
    "Reality_TV= [3, 0, 1, 3, 1, 4, 2, 1, 2, 0]\n"
   ]
  },
  {
   "cell_type": "code",
   "execution_count": 11,
   "metadata": {},
   "outputs": [
    {
     "data": {
      "text/plain": [
       "<matplotlib.legend.Legend at 0x7ff8a1cbc0d0>"
      ]
     },
     "execution_count": 11,
     "metadata": {},
     "output_type": "execute_result"
    },
    {
     "data": {
      "image/png": "[encoded data removed]",
      "text/plain": [
       "<Figure size 432x288 with 1 Axes>"
      ]
     },
     "metadata": {
      "needs_background": "light"
     },
     "output_type": "display_data"
    }
   ],
   "source": [
    "plt.bar(x,Documentary,0.4,label=\"Documentary\")\n",
    "plt.bar(x,Drama,0.4,label=\"Drama\")\n",
    "plt.bar(x,Comedy,0.4,label=\"Comedy\")\n",
    "plt.bar(x,Crime,0.4,label=\"Crimes\")\n",
    "plt.bar(x,Thriller,0.4,label=\"Thriller\")\n",
    "plt.bar(x,Romance,0.4,label=\"Romance\")\n",
    "plt.bar(x,Horror,0.4,label=\"Horror\")\n",
    "plt.bar(x,Mystery,0.4,label=\"Mystery\")\n",
    "plt.bar(x,Action,0.4,label=\"Action\")\n",
    "plt.bar(x,History,0.4,label=\"History\")\n",
    "plt.bar(x,Animation,0.4,label=\"Animation\")\n",
    "plt.bar(x,Fantasy,0.4,label=\"Fantasy\")\n",
    "plt.bar(x,Adventure,0.4,label=\"Adventure\")\n",
    "plt.bar(x,Family,0.4,label=\"Family\")\n",
    "plt.bar(x,Music,0.4,label=\"Music\")\n",
    "plt.bar(x,Biography,0.4,label=\"Biography\")\n",
    "plt.bar(x,Musical,0.4,label=\"Musical\")\n",
    "plt.bar(x,Sci_Fi,0.4,label=\"Sci_Fi\")\n",
    "plt.bar(x,Sport,0.4,label=\"Sport\")\n",
    "plt.bar(x,News,0.4,label=\"News\")\n",
    "plt.bar(x,War,0.4,label=\"War\")\n",
    "plt.bar(x,Western,0.4,label=\"Western\")\n",
    "plt.bar(x,Reality_TV, 0.4,label=\"Reality_TV\")\n",
    "\n",
    "plt.xlabel(\"Movie release year\")\n",
    "plt.ylabel(\"Genre count\")\n",
    "plt.title(\"Most popular genre\")\n",
    "plt.legend()\n",
    "\n",
    "#plt.bar(make graph bigger, yerr=?)\n",
    "#hide the legend.legend?"
   ]
  },
  {
   "cell_type": "code",
   "execution_count": null,
   "metadata": {},
   "outputs": [],
   "source": [
    "Drama = [count in 2010, 2011, 2012...]"
   ]
  },
  {
   "cell_type": "code",
   "execution_count": null,
   "metadata": {},
   "outputs": [],
   "source": []
  }
 ],
 "metadata": {
  "kernelspec": {
   "display_name": "Python 3",
   "language": "python",
   "name": "python3"
  },
  "language_info": {
   "codemirror_mode": {
    "name": "ipython",
    "version": 3
   },
   "file_extension": ".py",
   "mimetype": "text/x-python",
   "name": "python",
   "nbconvert_exporter": "python",
   "pygments_lexer": "ipython3",
   "version": "3.8.5"
  }
 },
 "nbformat": 4,
 "nbformat_minor": 4
}
